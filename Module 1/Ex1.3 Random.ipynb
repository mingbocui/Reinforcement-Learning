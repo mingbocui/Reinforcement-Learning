{
  "metadata": {
    "kernelspec": {
      "display_name": "Python 3",
      "language": "python",
      "name": "python3"
    },
    "language_info": {
      "mimetype": "text/x-python",
      "nbconvert_exporter": "python",
      "name": "python",
      "pygments_lexer": "ipython3",
      "version": "3.5.4",
      "file_extension": ".py",
      "codemirror_mode": {
        "version": 3,
        "name": "ipython"
      }
    }
  },
  "nbformat_minor": 2,
  "nbformat": 4,
  "cells": [
    {
      "cell_type": "markdown",
      "source": "# DAT257x: Reinforcement Learning Explained\n\n## Lab 1: Environments and Agents\n\n### Exercise 3: Random Agent",
      "metadata": {}
    },
    {
      "cell_type": "markdown",
      "source": "Now that you have examine the SimpleRoomsEnv and CliffWalkingEnv environments in the Environments.py file, let's play around with an agent in those environments.",
      "metadata": {}
    },
    {
      "cell_type": "code",
      "source": "import numpy as np\nimport sys\n\nif \"../\" not in sys.path:\n    sys.path.append(\"../\") \n\nfrom lib.envs.simple_rooms import SimpleRoomsEnv\nfrom lib.envs.cliff_walking import CliffWalkingEnv\nfrom lib.simulation import Experiment",
      "metadata": {},
      "execution_count": null,
      "outputs": []
    },
    {
      "cell_type": "markdown",
      "source": "Below is the agent interface. At the minimum, an agent will have an act() function that takes an observation, and return an action.",
      "metadata": {}
    },
    {
      "cell_type": "code",
      "source": "class Agent(object):\n\n    def __init__(self, actions):\n        self.actions = actions\n        self.num_actions = len(actions)\n\n    def act(self, obs):\n        raise NotImplementedError",
      "metadata": {
        "collapsed": true
      },
      "execution_count": null,
      "outputs": []
    },
    {
      "cell_type": "markdown",
      "source": "We've given you the implementation of a random agent. It's act() function will just return a random action within the valid action space.",
      "metadata": {}
    },
    {
      "cell_type": "code",
      "source": "class RandomAgent(Agent):\n    \n    def __init__(self, actions):\n        super(RandomAgent, self).__init__(actions)\n    \n    def act(self, obs):\n        return np.random.randint(0, self.num_actions)",
      "metadata": {
        "collapsed": true
      },
      "execution_count": null,
      "outputs": []
    },
    {
      "cell_type": "markdown",
      "source": "Now let's run the experiment. We'll start with the SimpleRoomsEnv environment, with just 5 episodes.",
      "metadata": {}
    },
    {
      "cell_type": "code",
      "source": "interactive = True\n%matplotlib nbagg    ",
      "metadata": {
        "collapsed": true
      },
      "execution_count": null,
      "outputs": []
    },
    {
      "cell_type": "code",
      "source": "max_number_of_episodes = 5\nenv = SimpleRoomsEnv()\nagent = RandomAgent(range(env.action_space.n))\nexperiment = Experiment(env, agent)\nexperiment.run_agent(max_number_of_episodes, interactive)",
      "metadata": {
        "scrolled": false
      },
      "execution_count": null,
      "outputs": []
    },
    {
      "cell_type": "markdown",
      "source": "Let's do one with the CliffWalkingEnv environment. This time with 10 episodes.",
      "metadata": {}
    },
    {
      "cell_type": "code",
      "source": "max_number_of_episodes = 10\nenv = CliffWalkingEnv()\nagent = RandomAgent(range(env.action_space.n))\nexperiment = Experiment(env, agent)\nexperiment.run_agent(max_number_of_episodes, interactive)",
      "metadata": {},
      "execution_count": null,
      "outputs": []
    },
    {
      "cell_type": "markdown",
      "source": "Let's set interactive to False, and run the experiments again. This time with 100 episodes each.",
      "metadata": {}
    },
    {
      "cell_type": "code",
      "source": "interactive = False\n%matplotlib inline  ",
      "metadata": {
        "collapsed": true
      },
      "execution_count": null,
      "outputs": []
    },
    {
      "cell_type": "code",
      "source": "max_number_of_episodes = 100\nenv = SimpleRoomsEnv()\nagent = RandomAgent(range(env.action_space.n))\nexperiment = Experiment(env, agent)\nexperiment.run_agent(max_number_of_episodes, interactive)",
      "metadata": {},
      "execution_count": null,
      "outputs": []
    },
    {
      "cell_type": "code",
      "source": "max_number_of_episodes = 100\nenv = CliffWalkingEnv()\nagent = RandomAgent(range(env.action_space.n))\nexperiment = Experiment(env, agent)\nexperiment.run_agent(max_number_of_episodes, interactive)",
      "metadata": {},
      "execution_count": null,
      "outputs": []
    },
    {
      "cell_type": "code",
      "source": "",
      "metadata": {
        "collapsed": true
      },
      "execution_count": null,
      "outputs": []
    }
  ]
}
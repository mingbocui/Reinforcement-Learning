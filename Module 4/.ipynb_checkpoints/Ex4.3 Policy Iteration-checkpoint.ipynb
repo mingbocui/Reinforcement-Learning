{
 "cells": [
  {
   "cell_type": "markdown",
   "metadata": {},
   "source": [
    "# DAT257x: Reinforcement Learning Explained\n",
    "\n",
    "## Lab 4: Dynamic Programming\n",
    "\n",
    "### Exercise 4.3 Policy Iteration"
   ]
  },
  {
   "cell_type": "markdown",
   "metadata": {},
   "source": [
    "Policy Iteration calculates the optimal policy for an MDP, given its full definition.  The full definition of an MDP is the set of states, the set of available actions for each state, the set of rewards, the discount factor, and the state/reward transition function."
   ]
  },
  {
   "cell_type": "code",
   "execution_count": 2,
   "metadata": {},
   "outputs": [],
   "source": [
    "import test_dp               # required for testing and grading your code\n",
    "import gridworld_mdp as gw   # defines the MDP for a 4x4 gridworld"
   ]
  },
  {
   "cell_type": "markdown",
   "metadata": {},
   "source": [
    "**Implement the algorithm for Policy Iteration**.  Policy Iteration calculates the optimal policy for an MDP by doing repeated steps of policy evaluation and policy improvement.\n",
    "\n",
    "A empty function **policy_iteration** is provided below; implement the body of the function to correctly calculate the optimal policy for an MDP.  The function defines 5 parameters - a definition of each parameter is given in the comment block for the function.  For sample parameter values, see the calling code in the cell following the function.\n",
    "\n",
    "Note that there is a subtle difference between the algorithm for Policy Evaluation, which assumes the policy is stochastic, and the Policy Evaluation step for the Policy Iteration algorithm, which assumes the policy is deterministic.  This means that you cannot directly call your previous code, but you can reuse large pieces of it for the Policy Evaluation step."
   ]
  },
  {
   "cell_type": "code",
   "execution_count": 6,
   "metadata": {},
   "outputs": [],
   "source": [
    "def policy_iteration(state_count, gamma, theta, get_available_actions, get_transitions):\n",
    "    \"\"\"\n",
    "    This function computes the optimal value function and policy for the specified MDP, using the Policy Iteration algorithm.\n",
    "    'state_count' is the total number of states in the MDP. States are represented as 0-relative numbers.\n",
    "    \n",
    "    'gamma' is the MDP discount factor for rewards.\n",
    "    \n",
    "    'theta' is the small number threshold to signal convergence of the value function (see Iterative Policy Evaluation algorithm).\n",
    "    \n",
    "    'get_available_actions' returns a list of the MDP available actions for the specified state parameter.\n",
    "    \n",
    "    'get_transitions' is the MDP state / reward transiton function.  It accepts two parameters, state and action, and returns\n",
    "        a list of tuples, where each tuple is of the form: (next_state, reward, probabiliity).  \n",
    "    \"\"\"\n",
    "    V = state_count*[0]                # init all state value estimates to 0\n",
    "    pi = state_count*[0]\n",
    "    \n",
    "    nA = len(get_available_actions(0))\n",
    "    \n",
    "    prob_action = [[1/nA] * nA] * state_count\n",
    "    \n",
    "    # 1. init with a policy with first avail action for each state\n",
    "    for state in range(state_count):\n",
    "        avail_actions = get_available_actions(state)\n",
    "        # random initialize the policy \n",
    "        pi[state] = avail_actions[0]\n",
    "        \n",
    "    \n",
    "    while True:\n",
    "        # 2. policy evaluation\n",
    "        while True:\n",
    "            delta = 0\n",
    "            for state in range(1, state_count):\n",
    "                state_sum = 0\n",
    "                for action, prob in get_policy(state):\n",
    "                    trans = get_transitions(state, action)\n",
    "                    [(next_state, reward, probability)] = trans\n",
    "                    state_sum += probability * prob * (reward + gamma * V[next_state])\n",
    "\n",
    "                delta = max(delta, abs(state_sum - V[state]))\n",
    "                # has to be updated out of this forloop\n",
    "                V[state] = state_sum\n",
    "            if(delta < theta): break   \n",
    "            \n",
    "        # 3. policy improvement  \n",
    "        policy_stable = True\n",
    "        for state in range(1, state_count):\n",
    "            old_action = pi[state]\n",
    "            for action, prob in get_policy(state):\n",
    "                trans = get_transitions(state, action)\n",
    "                [(next_state, reward, probability)] = trans\n",
    "                state_sum += probability * prob * (reward + gamma * V[next_state])\n",
    "\n",
    "\n",
    "\n",
    "            pi[state] = np.argmax\n",
    "    \n",
    "\n",
    "    return (V, pi)        # return both the final value function and the final policy"
   ]
  },
  {
   "cell_type": "code",
   "execution_count": null,
   "metadata": {},
   "outputs": [],
   "source": [
    "    V = state_count*[0]                # init all state value estimates to 0\n",
    "    pi = state_count*[0]\n",
    "    nA = len(get_available_actions(0))\n",
    "    prob_pi_act = [[1/nA, 1/nA, 1/nA, 1/nA]]*state_count\n",
    "    # init with a policy with first avail action for each state\n",
    "    for s in range(state_count):\n",
    "        avail_actions = get_available_actions(s)\n",
    "        pi[s] = avail_actions[0]\n",
    "    while True:\n",
    "        while True:\n",
    "            delta = 0\n",
    "            for i in range(1,state_count):\n",
    "                tt = 0\n",
    "                avail_actions = get_available_actions(i)\n",
    "                for act in avail_actions:\n",
    "                    next_state, reward, prob = get_transitions(state=i,action=act)[0]\n",
    "                    tt += prob_pi_act[i][avail_actions.index(act)]*prob*(reward + gamma*V[next_state])\n",
    "                delta = max(delta,abs(tt - V[i]))\n",
    "                V[i] = tt\n",
    "            if delta < theta:\n",
    "                break\n",
    "                \n",
    "        policy_stable = True\n",
    "        for i in range(1,state_count):\n",
    "            old_action = pi[i]\n",
    "            tmp = -9999\n",
    "            avail_actions = get_available_actions(i)\n",
    "            for act in avail_actions:\n",
    "                next_state, reward, prob = get_transitions(state=i,action=act)[0]\n",
    "                _tmp = prob*(reward + gamma*V[next_state])\n",
    "                if tmp < _tmp:\n",
    "                    tmp = _tmp\n",
    "                    pi[i] = act\n",
    "            if old_action != pi[i]:\n",
    "                policy_stable = False\n",
    "            __tmp = [0]*nA\n",
    "            __tmp[avail_actions.index(pi[i])] = 1\n",
    "            prob_pi_act[i] = __tmp\n",
    "        if policy_stable:\n",
    "            break\n",
    "    # insert code here to iterate using policy evaluation and policy improvement (see Policy Iteration algorithm)\n",
    "    return (V, pi)        # return both the final value function and the final policy"
   ]
  },
  {
   "cell_type": "code",
   "execution_count": 5,
   "metadata": {},
   "outputs": [
    {
     "data": {
      "text/plain": [
       "'up'"
      ]
     },
     "execution_count": 5,
     "metadata": {},
     "output_type": "execute_result"
    }
   ],
   "source": [
    "gw.get_available_actions(0)[0]"
   ]
  },
  {
   "cell_type": "markdown",
   "metadata": {},
   "source": [
    "First, test our function using the MDP defined by gw.* functions."
   ]
  },
  {
   "cell_type": "code",
   "execution_count": null,
   "metadata": {},
   "outputs": [],
   "source": [
    "n_states = gw.get_state_count()\n",
    "\n",
    "# test our function\n",
    "values, policy = policy_iteration(state_count=n_states, gamma=.9, theta=.001, get_available_actions=gw.get_available_actions, \\\n",
    "    get_transitions=gw.get_transitions)\n",
    "\n",
    "print(\"Values=\", values)\n",
    "print(\"Policy=\", policy)"
   ]
  },
  {
   "cell_type": "markdown",
   "metadata": {},
   "source": [
    "**Expected output from running above cell:**\n",
    "\n",
    "`\n",
    "Values= [0.0, -1.0, -1.9, -2.71, -1.0, -1.9, -2.71, -1.9, -1.9, -2.71, -1.9, -1.0, -2.71, -1.9, -1.0]\n",
    "Policy= ['up', 'left', 'left', 'down', 'up', 'up', 'up', 'down', 'up', 'up', 'down', 'down', 'up', 'right', 'right']\n",
    "`"
   ]
  },
  {
   "cell_type": "code",
   "execution_count": null,
   "metadata": {},
   "outputs": [],
   "source": [
    "import numpy as np\n",
    "a = np.append(values, 0)\n",
    "np.reshape(a, (4,4))"
   ]
  },
  {
   "cell_type": "markdown",
   "metadata": {},
   "source": [
    "Now, test our function using the test_dp helper.  The helper also uses the gw MDP, but with a different gamma value.\n",
    "If our function passes all tests, a passcode will be printed."
   ]
  },
  {
   "cell_type": "code",
   "execution_count": null,
   "metadata": {},
   "outputs": [],
   "source": [
    "a = np.append(policy, policy[0])\n",
    "np.reshape(a, (4,4))"
   ]
  },
  {
   "cell_type": "code",
   "execution_count": null,
   "metadata": {},
   "outputs": [],
   "source": [
    "# test our function using the test_db helper\n",
    "test_dp.policy_iteration_test( policy_iteration ) "
   ]
  }
 ],
 "metadata": {
  "kernelspec": {
   "display_name": "Python 3",
   "language": "python",
   "name": "python3"
  },
  "language_info": {
   "codemirror_mode": {
    "name": "ipython",
    "version": 3
   },
   "file_extension": ".py",
   "mimetype": "text/x-python",
   "name": "python",
   "nbconvert_exporter": "python",
   "pygments_lexer": "ipython3",
   "version": "3.7.6"
  }
 },
 "nbformat": 4,
 "nbformat_minor": 4
}

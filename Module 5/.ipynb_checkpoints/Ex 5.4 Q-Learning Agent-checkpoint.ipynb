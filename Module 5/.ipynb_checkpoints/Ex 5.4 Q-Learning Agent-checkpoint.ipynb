{
 "cells": [
  {
   "cell_type": "markdown",
   "metadata": {},
   "source": [
    "# DAT257x: Reinforcement Learning Explained\n",
    "\n",
    "## Lab 5: Temporal Difference Learning\n",
    "\n",
    "### Exercise 5.4: Q-Learning Agent"
   ]
  },
  {
   "cell_type": "code",
   "execution_count": 1,
   "metadata": {},
   "outputs": [],
   "source": [
    "import numpy as np\n",
    "import sys\n",
    "\n",
    "if \"../\" not in sys.path:\n",
    "    sys.path.append(\"../\") \n",
    "    \n",
    "from lib.envs.simple_rooms import SimpleRoomsEnv\n",
    "from lib.envs.windy_gridworld import WindyGridworldEnv\n",
    "from lib.envs.cliff_walking import CliffWalkingEnv\n",
    "from lib.simulation import Experiment"
   ]
  },
  {
   "cell_type": "code",
   "execution_count": 2,
   "metadata": {},
   "outputs": [],
   "source": [
    "class Agent(object):  \n",
    "        \n",
    "    def __init__(self, actions):\n",
    "        self.actions = actions\n",
    "        self.num_actions = len(actions)\n",
    "\n",
    "    def act(self, state):\n",
    "        raise NotImplementedError"
   ]
  },
  {
   "cell_type": "code",
   "execution_count": null,
   "metadata": {},
   "outputs": [],
   "source": [
    "class QLearningAgent(Agent):\n",
    "    \n",
    "    def __init__(self, actions, epsilon=0.01, alpha=0.5, gamma=1):\n",
    "        super(QLearningAgent, self).__init__(actions)\n",
    "        \n",
    "        ## Initialize empty dictionary here\n",
    "        ## In addition, initialize the value of epsilon, alpha and gamma\n",
    "        self.Q = dict()\n",
    "        self.epsilon = epsilon\n",
    "        self.gamma = gamma\n",
    "        self.alpha = alpha\n",
    "        \n",
    "    def stateToString(self, state):\n",
    "        mystring = \"\"\n",
    "        if np.isscalar(state):\n",
    "            mystring = str(state)\n",
    "        else:\n",
    "            for digit in state:\n",
    "                mystring += str(digit)\n",
    "        return mystring    \n",
    "    \n",
    "    def act(self, state):\n",
    "        stateStr = self.stateToString(state)      \n",
    "        action = np.random.randint(0, self.num_actions) \n",
    "        \n",
    "        ## Implement epsilon greedy policy here\n",
    "        if np.random.random() < self.epsilon:\n",
    "            action = action\n",
    "        else:\n",
    "            q_values = [self.Q.get((self.stateToString(state), a), 0) for a in self.actions]\n",
    "            action_ind = np.argmax(q_values)\n",
    "            action = self.actions[action_ind]\n",
    "            \n",
    "        return action\n",
    "    \n",
    "    def learn(self, state1, action1, reward, state2, done):\n",
    "        state1Str = self.stateToString(state1)\n",
    "        state2Str = self.stateToString(state2)\n",
    "        \n",
    "        ## TODO 3\n",
    "        ## Implement the q-learning update here\n",
    "        q_value = self.Q.get((state1Str, action1), 0)\n",
    "        q_values_prime = [self.Q.get((state2Str, action2), 0) for action2 in self.actions]\n",
    "        max_q_value_prime = np.max(q_values_prime)\n",
    "\n",
    "        \n",
    "        self.Q[(state1Str, action1)] = q_value + self.alpha * (reward + self.gamma * max_q_value_prime - q_value)\n",
    "        \n",
    "        \"\"\"\n",
    "        Q-learning Update:\n",
    "        Q(s,a) <- Q(s,a) + alpha * (reward + gamma * max(Q(s') - Q(s,a))\n",
    "        or\n",
    "        Q(s,a) <- Q(s,a) + alpha * (td_target - Q(s,a))\n",
    "        or\n",
    "        Q(s,a) <- Q(s,a) + alpha * td_delta\n",
    "        \"\"\""
   ]
  },
  {
   "cell_type": "code",
   "execution_count": null,
   "metadata": {},
   "outputs": [],
   "source": [
    "interactive = True\n",
    "%matplotlib nbagg\n",
    "env = SimpleRoomsEnv()\n",
    "agent = QLearningAgent(range(env.action_space.n))\n",
    "experiment = Experiment(env, agent)\n",
    "experiment.run_qlearning(10, interactive)"
   ]
  },
  {
   "cell_type": "code",
   "execution_count": null,
   "metadata": {},
   "outputs": [],
   "source": [
    "interactive = False\n",
    "%matplotlib inline\n",
    "env = SimpleRoomsEnv()\n",
    "agent = QLearningAgent(range(env.action_space.n))\n",
    "experiment = Experiment(env, agent)\n",
    "experiment.run_qlearning(50, interactive)"
   ]
  },
  {
   "cell_type": "code",
   "execution_count": null,
   "metadata": {},
   "outputs": [],
   "source": [
    "interactive = True\n",
    "%matplotlib nbagg\n",
    "env = CliffWalkingEnv()\n",
    "agent = QLearningAgent(range(env.action_space.n))\n",
    "experiment = Experiment(env, agent)\n",
    "experiment.run_qlearning(10, interactive)"
   ]
  },
  {
   "cell_type": "code",
   "execution_count": null,
   "metadata": {},
   "outputs": [],
   "source": [
    "interactive = False\n",
    "%matplotlib inline\n",
    "env = CliffWalkingEnv()\n",
    "agent = QLearningAgent(range(env.action_space.n))\n",
    "experiment = Experiment(env, agent)\n",
    "experiment.run_qlearning(100, interactive)"
   ]
  },
  {
   "cell_type": "code",
   "execution_count": null,
   "metadata": {},
   "outputs": [],
   "source": [
    "interactive = False\n",
    "%matplotlib inline\n",
    "env = WindyGridworldEnv()\n",
    "agent = QLearningAgent(range(env.action_space.n))\n",
    "experiment = Experiment(env, agent)\n",
    "experiment.run_qlearning(50, interactive)"
   ]
  },
  {
   "cell_type": "code",
   "execution_count": null,
   "metadata": {},
   "outputs": [],
   "source": []
  }
 ],
 "metadata": {
  "kernelspec": {
   "display_name": "Python [conda env:mingbo] *",
   "language": "python",
   "name": "conda-env-mingbo-py"
  },
  "language_info": {
   "codemirror_mode": {
    "name": "ipython",
    "version": 3
   },
   "file_extension": ".py",
   "mimetype": "text/x-python",
   "name": "python",
   "nbconvert_exporter": "python",
   "pygments_lexer": "ipython3",
   "version": "3.7.6"
  }
 },
 "nbformat": 4,
 "nbformat_minor": 4
}
